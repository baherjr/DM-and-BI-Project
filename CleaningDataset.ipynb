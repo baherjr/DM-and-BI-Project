{
 "cells": [
  {
   "cell_type": "code",
   "execution_count": null,
   "metadata": {},
   "outputs": [],
   "source": [
    "import pandas as pd\n",
    "import numpy as np\n",
    "import matplotlib.pyplot as plt\n",
    "import seaborn as sns\n",
    "import os\n",
    "\n",
    "directory = os.scandir('outliers')\n",
    "first_file = pd.read_csv('outliers//age_no_disease_outliers.csv')\n",
    "Outlier_dataframe = first_file\n",
    "i = 0\n",
    "\n",
    "for file in directory:\n",
    "    if i == 0:\n",
    "        i +=1\n",
    "        continue\n",
    "    if file.name.endswith('.csv'):\n",
    "        print(file.name)\n",
    "        df = pd.read_csv('outliers/' + file.name)\n",
    "        Outlier_dataframe = pd.concat([Outlier_dataframe, df], ignore_index=True)\n",
    "        \n",
    "Outlier_dataframe.to_csv('Outliers.csv', index=False)\n",
    "\n",
    "#print the new dataframe\n",
    "print(Outlier_dataframe)"
   ]
  },
  {
   "cell_type": "code",
   "execution_count": 64,
   "metadata": {},
   "outputs": [],
   "source": [
    "\n",
    "data = pd.read_csv('Dataset/heart.csv')\n",
    "df_outlier = pd.read_csv('Outliers.csv')\n",
    "\n",
    "for i in data.index.copy():\n",
    "    for j in df_outlier.index:\n",
    "        # Check for exact row match\n",
    "        if data.loc[i].equals(df_outlier.loc[j]):\n",
    "            data = data.drop(i)  # Drop the matching row\n",
    "            break  # Exit the inner loop once a match is found\n",
    "\n",
    "data.to_csv('Dataset/heart_no_outliers.csv', index=False)\n"
   ]
  }
 ],
 "metadata": {
  "kernelspec": {
   "display_name": "Python 3",
   "language": "python",
   "name": "python3"
  },
  "language_info": {
   "codemirror_mode": {
    "name": "ipython",
    "version": 3
   },
   "file_extension": ".py",
   "mimetype": "text/x-python",
   "name": "python",
   "nbconvert_exporter": "python",
   "pygments_lexer": "ipython3",
   "version": "3.10.11"
  }
 },
 "nbformat": 4,
 "nbformat_minor": 2
}
